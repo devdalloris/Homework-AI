{
 "cells": [
  {
   "cell_type": "code",
   "execution_count": null,
   "metadata": {},
   "outputs": [],
   "source": [
    "import pandas as pd \n",
    "import numpy as np\n",
    "df=pd.read_csv('advertising.csv') \n",
    "display(df.head())\n",
    "df.shape\n",
    "X_org=df[['TV', 'Radio', 'Newspaper']].values\n",
    "y=df['Sales'].values\n",
    "N=X_org.shape[0]\n",
    "X = np.c_[np.ones(N), X_org]"
   ]
  },
  {
   "cell_type": "code",
   "execution_count": null,
   "metadata": {},
   "outputs": [],
   "source": [
    "import numpy as np\n",
    "\n",
    "\n",
    "class GradientDescend:\n",
    "    def __init__(self, lr, max_iter, tol):\n",
    "        self.lr = lr\n",
    "        self.max_iter = max_iter\n",
    "        self.tol = tol\n",
    "\n",
    "        self.coef_ = None\n",
    "        self.intercept_ = None\n",
    "    \n",
    "    def fit(self, X, y):\n",
    "        X = np.array(X)\n",
    "        y = np.array(y)\n",
    "        n = X.shape[0]\n",
    "\n",
    "        X = np.c_[np.ones(n), X]\n",
    "        \n",
    "        n_features = X.shape[1]\n",
    "\n",
    "        # 1. Initialize coefficients randomly\n",
    "        coef = np.random.randn(n_features)\n",
    "\n",
    "        for i in range(self.max_iter):\n",
    "            y_pred = X @ coef\n",
    "            e = y - y_pred\n",
    "    \n",
    "            # 2. Calculate gradients\n",
    "            coef_grad = (-2 / n) * X.T @ e\n",
    "            \n",
    "            # 3. Adjust coefficients accordingly (using self.lr)\n",
    "            coef = coef - self.lr * coef_grad\n",
    "\n",
    "        # 4. Repeat this process self.max_iter times\n",
    "\n",
    "        self.coef_ = coef[1:]\n",
    "        self.intercept_ = coef[0]\n",
    "        return self\n",
    "\n",
    "    def predict(self, X):\n",
    "        pass\n",
    "\n",
    "    def score(self, X, y):\n",
    "        pass\n",
    "\n",
    "\n",
    "gd = GradientDescend(lr=0.01, max_iter=1000, tol=0.001)\n",
    "gd.fit(X, y)\n"
   ]
  }
 ],
 "metadata": {
  "kernelspec": {
   "display_name": "Python 3",
   "language": "python",
   "name": "python3"
  },
  "language_info": {
   "name": "python",
   "version": "3.10.10"
  }
 },
 "nbformat": 4,
 "nbformat_minor": 2
}
