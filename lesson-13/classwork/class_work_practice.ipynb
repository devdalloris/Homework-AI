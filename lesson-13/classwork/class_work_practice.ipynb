{
 "cells": [
  {
   "cell_type": "code",
   "execution_count": 2,
   "metadata": {},
   "outputs": [
    {
     "data": {
      "text/plain": [
       "((150, 4), (150,))"
      ]
     },
     "execution_count": 2,
     "metadata": {},
     "output_type": "execute_result"
    }
   ],
   "source": [
    "import numpy as np\n",
    "from sklearn.model_selection import train_test_split\n",
    "from sklearn import datasets\n",
    "from sklearn import linear_model\n",
    "\n",
    "X, y = datasets.load_iris(return_X_y=True)\n",
    "X.shape, y.shape"
   ]
  },
  {
   "cell_type": "code",
   "execution_count": 2,
   "metadata": {},
   "outputs": [
    {
     "name": "stdout",
     "output_type": "stream",
     "text": [
      "(90, 4) (90,)\n",
      "(60, 4) (60,)\n"
     ]
    }
   ],
   "source": [
    "X_train, X_test, y_train, y_test = train_test_split(\n",
    "    X, y, test_size=0.4, random_state=0)\n",
    "\n",
    "print(X_train.shape, y_train.shape)\n",
    "print(X_test.shape, y_test.shape)"
   ]
  },
  {
   "cell_type": "code",
   "execution_count": 3,
   "metadata": {},
   "outputs": [
    {
     "data": {
      "text/plain": [
       "0.95"
      ]
     },
     "execution_count": 3,
     "metadata": {},
     "output_type": "execute_result"
    }
   ],
   "source": [
    "clf = linear_model.LogisticRegression(C=100, max_iter=10000).fit(X_train, y_train)\n",
    "clf.score(X_test, y_test)"
   ]
  },
  {
   "cell_type": "code",
   "execution_count": 4,
   "metadata": {},
   "outputs": [
    {
     "data": {
      "text/plain": [
       "0.9888888888888889"
      ]
     },
     "execution_count": 4,
     "metadata": {},
     "output_type": "execute_result"
    }
   ],
   "source": [
    "clf.score(X_train, y_train)"
   ]
  },
  {
   "cell_type": "code",
   "execution_count": 3,
   "metadata": {},
   "outputs": [
    {
     "data": {
      "text/plain": [
       "array([0.96666667, 1.        , 0.96666667, 0.93333333, 1.        ])"
      ]
     },
     "execution_count": 3,
     "metadata": {},
     "output_type": "execute_result"
    }
   ],
   "source": [
    "from sklearn.model_selection import cross_val_score\n",
    "clf = linear_model.LogisticRegression(C=10, max_iter=10000)\n",
    "scores = cross_val_score(clf, X, y, cv=5)\n",
    "scores"
   ]
  },
  {
   "cell_type": "code",
   "execution_count": 8,
   "metadata": {},
   "outputs": [
    {
     "name": "stdout",
     "output_type": "stream",
     "text": [
      "0.97 accuracy with a standard deviation of 0.02\n"
     ]
    }
   ],
   "source": [
    "print(\"%0.2f accuracy with a standard deviation of %0.2f\" % (scores.mean(), scores.std()))"
   ]
  },
  {
   "cell_type": "code",
   "execution_count": 9,
   "metadata": {},
   "outputs": [
    {
     "data": {
      "text/plain": [
       "array([0.96969697, 1.        , 0.96969697, 0.93333333, 1.        ])"
      ]
     },
     "execution_count": 9,
     "metadata": {},
     "output_type": "execute_result"
    }
   ],
   "source": [
    "clf = linear_model.LogisticRegression(C=10, max_iter=10000)\n",
    "scores = cross_val_score(clf, X, y, cv=5, scoring='precision_macro')\n",
    "scores"
   ]
  },
  {
   "cell_type": "code",
   "execution_count": null,
   "metadata": {},
   "outputs": [
    {
     "data": {
      "text/plain": [
       "['fit_time', 'score_time', 'test_precision_macro', 'test_recall_macro']"
      ]
     },
     "execution_count": 10,
     "metadata": {},
     "output_type": "execute_result"
    }
   ],
   "source": [
    "from sklearn.model_selection import cross_validate\n",
    "scoring = ['precision_macro', 'recall_macro']\n",
    "clf = linear_model.LogisticRegression(max_iter=1000)\n",
    "scores = cross_validate(clf, X, y, scoring=scoring)\n",
    "sorted(scores.keys())"
   ]
  },
  {
   "cell_type": "code",
   "execution_count": 12,
   "metadata": {},
   "outputs": [
    {
     "data": {
      "text/plain": [
       "{'fit_time': array([0.04045582, 0.05144167, 0.0393579 , 0.0485363 , 0.05150151]),\n",
       " 'score_time': array([0.00246596, 0.00984311, 0.00212932, 0.00099492, 0.0095396 ]),\n",
       " 'test_precision_macro': array([0.96969697, 1.        , 0.94444444, 0.96969697, 1.        ]),\n",
       " 'test_recall_macro': array([0.96666667, 1.        , 0.93333333, 0.96666667, 1.        ])}"
      ]
     },
     "execution_count": 12,
     "metadata": {},
     "output_type": "execute_result"
    }
   ],
   "source": [
    "scores"
   ]
  },
  {
   "cell_type": "code",
   "execution_count": 13,
   "metadata": {},
   "outputs": [
    {
     "data": {
      "text/plain": [
       "array([0.96969697, 1.        , 0.94444444, 0.96969697, 1.        ])"
      ]
     },
     "execution_count": 13,
     "metadata": {},
     "output_type": "execute_result"
    }
   ],
   "source": [
    "scores['test_precision_macro']"
   ]
  },
  {
   "cell_type": "code",
   "execution_count": 11,
   "metadata": {},
   "outputs": [
    {
     "data": {
      "text/plain": [
       "array([0, 0, 0, 0, 0, 0, 0, 0, 0, 0, 0, 0, 0, 0, 0, 0, 0, 0, 0, 0, 0, 0,\n",
       "       0, 0, 0, 0, 0, 0, 0, 0, 0, 0, 0, 0, 0, 0, 0, 0, 0, 0, 0, 0, 0, 0,\n",
       "       0, 0, 0, 0, 0, 0, 1, 1, 1, 1, 1, 1, 1, 1, 1, 1, 1, 1, 1, 1, 1, 1,\n",
       "       1, 1, 1, 1, 2, 1, 1, 1, 1, 1, 1, 2, 1, 1, 1, 1, 1, 2, 1, 1, 1, 1,\n",
       "       1, 1, 1, 1, 1, 1, 1, 1, 1, 1, 1, 1, 2, 2, 2, 2, 2, 2, 1, 2, 2, 2,\n",
       "       2, 2, 2, 2, 2, 2, 2, 2, 2, 2, 2, 2, 2, 2, 2, 2, 2, 2, 2, 2, 2, 2,\n",
       "       2, 2, 2, 2, 2, 2, 2, 2, 2, 2, 2, 2, 2, 2, 2, 2, 2, 2])"
      ]
     },
     "execution_count": 11,
     "metadata": {},
     "output_type": "execute_result"
    }
   ],
   "source": [
    "from sklearn.model_selection import cross_val_predict\n",
    "clf = linear_model.LogisticRegression(max_iter=1000)\n",
    "predictions = cross_val_predict(clf, X, y)\n",
    "predictions"
   ]
  },
  {
   "cell_type": "code",
   "execution_count": 16,
   "metadata": {},
   "outputs": [
    {
     "name": "stdout",
     "output_type": "stream",
     "text": [
      "Fold 1: Accurady = 1.0000\n",
      "Fold 2: Accurady = 1.0000\n",
      "Fold 3: Accurady = 0.9333\n",
      "Fold 4: Accurady = 0.9667\n",
      "Fold 5: Accurady = 0.9667\n"
     ]
    }
   ],
   "source": [
    "from sklearn.model_selection import KFold\n",
    "from sklearn.metrics import accuracy_score\n",
    "from sklearn.linear_model import LogisticRegression\n",
    "from sklearn.datasets import load_iris\n",
    "import numpy as np\n",
    "\n",
    "X, y = load_iris(return_X_y=True)\n",
    "kf = KFold(n_splits=5, shuffle=True, random_state=42)\n",
    "\n",
    "accuracies = []\n",
    "\n",
    "for fold, (train_index, test_index) in enumerate(kf.split(X), 1):\n",
    "    X_train, X_test = X[train_index], X[test_index]\n",
    "    y_train, y_test = y[train_index], y[test_index]\n",
    "\n",
    "    model = LogisticRegression(max_iter=1000)\n",
    "    model.fit(X_train, y_train)\n",
    "    preds = model.predict(X_test)\n",
    "    acc = accuracy_score(y_test, preds)\n",
    "\n",
    "    print(f\"Fold {fold}: Accurady = {acc:.4f}\")\n",
    "    accuracies.append(acc)"
   ]
  },
  {
   "cell_type": "code",
   "execution_count": 18,
   "metadata": {},
   "outputs": [
    {
     "name": "stdout",
     "output_type": "stream",
     "text": [
      "\n",
      "Average Accuracy: 0.9733\n"
     ]
    }
   ],
   "source": [
    "print(f\"\\nAverage Accuracy: {np.mean(accuracies):.4f}\")"
   ]
  },
  {
   "cell_type": "code",
   "execution_count": 19,
   "metadata": {},
   "outputs": [
    {
     "name": "stdout",
     "output_type": "stream",
     "text": [
      "[1 2 3 4] [0]\n",
      "[0 2 3 4] [1]\n",
      "[0 1 3 4] [2]\n",
      "[0 1 2 4] [3]\n",
      "[0 1 2 3] [4]\n"
     ]
    }
   ],
   "source": [
    "from sklearn.model_selection import LeaveOneOut\n",
    "\n",
    "a = [45, 76, 34, 32, 21]\n",
    "loo = LeaveOneOut()\n",
    "for train, test in loo.split(a):\n",
    "    print(train, test)"
   ]
  },
  {
   "cell_type": "code",
   "execution_count": 23,
   "metadata": {},
   "outputs": [
    {
     "name": "stdout",
     "output_type": "stream",
     "text": [
      "[0 2 3 4 5 6 8] [1 7]\n",
      "[1 2 3 4 6 7 8] [0 5]\n",
      "[0 1 3 4 5 6 7] [2 8]\n",
      "[0 1 2 5 6 7 8] [3 4]\n",
      "[0 1 2 3 4 5 7 8] [6]\n"
     ]
    }
   ],
   "source": [
    "from sklearn.model_selection import RepeatedKFold\n",
    "\n",
    "a = [45, 76, 34, 32, 21, 65, 43, 32, 21]\n",
    "rkf = RepeatedKFold(n_splits=5, n_repeats=1, random_state=42)\n",
    "\n",
    "for train, test in rkf.split(a):\n",
    "    print(train, test)"
   ]
  },
  {
   "cell_type": "code",
   "execution_count": 25,
   "metadata": {},
   "outputs": [
    {
     "name": "stdout",
     "output_type": "stream",
     "text": [
      "[4 5 6 7 8] [0 1 2 3]\n",
      "[3 5 6 7 8] [0 1 2 4]\n",
      "[3 4 6 7 8] [0 1 2 5]\n",
      "[3 4 5 7 8] [0 1 2 6]\n",
      "[3 4 5 6 8] [0 1 2 7]\n",
      "[3 4 5 6 7] [0 1 2 8]\n",
      "[2 5 6 7 8] [0 1 3 4]\n",
      "[2 4 6 7 8] [0 1 3 5]\n",
      "[2 4 5 7 8] [0 1 3 6]\n",
      "[2 4 5 6 8] [0 1 3 7]\n",
      "[2 4 5 6 7] [0 1 3 8]\n",
      "[2 3 6 7 8] [0 1 4 5]\n",
      "[2 3 5 7 8] [0 1 4 6]\n",
      "[2 3 5 6 8] [0 1 4 7]\n",
      "[2 3 5 6 7] [0 1 4 8]\n",
      "[2 3 4 7 8] [0 1 5 6]\n",
      "[2 3 4 6 8] [0 1 5 7]\n",
      "[2 3 4 6 7] [0 1 5 8]\n",
      "[2 3 4 5 8] [0 1 6 7]\n",
      "[2 3 4 5 7] [0 1 6 8]\n",
      "[2 3 4 5 6] [0 1 7 8]\n",
      "[1 5 6 7 8] [0 2 3 4]\n",
      "[1 4 6 7 8] [0 2 3 5]\n",
      "[1 4 5 7 8] [0 2 3 6]\n",
      "[1 4 5 6 8] [0 2 3 7]\n",
      "[1 4 5 6 7] [0 2 3 8]\n",
      "[1 3 6 7 8] [0 2 4 5]\n",
      "[1 3 5 7 8] [0 2 4 6]\n",
      "[1 3 5 6 8] [0 2 4 7]\n",
      "[1 3 5 6 7] [0 2 4 8]\n",
      "[1 3 4 7 8] [0 2 5 6]\n",
      "[1 3 4 6 8] [0 2 5 7]\n",
      "[1 3 4 6 7] [0 2 5 8]\n",
      "[1 3 4 5 8] [0 2 6 7]\n",
      "[1 3 4 5 7] [0 2 6 8]\n",
      "[1 3 4 5 6] [0 2 7 8]\n",
      "[1 2 6 7 8] [0 3 4 5]\n",
      "[1 2 5 7 8] [0 3 4 6]\n",
      "[1 2 5 6 8] [0 3 4 7]\n",
      "[1 2 5 6 7] [0 3 4 8]\n",
      "[1 2 4 7 8] [0 3 5 6]\n",
      "[1 2 4 6 8] [0 3 5 7]\n",
      "[1 2 4 6 7] [0 3 5 8]\n",
      "[1 2 4 5 8] [0 3 6 7]\n",
      "[1 2 4 5 7] [0 3 6 8]\n",
      "[1 2 4 5 6] [0 3 7 8]\n",
      "[1 2 3 7 8] [0 4 5 6]\n",
      "[1 2 3 6 8] [0 4 5 7]\n",
      "[1 2 3 6 7] [0 4 5 8]\n",
      "[1 2 3 5 8] [0 4 6 7]\n",
      "[1 2 3 5 7] [0 4 6 8]\n",
      "[1 2 3 5 6] [0 4 7 8]\n",
      "[1 2 3 4 8] [0 5 6 7]\n",
      "[1 2 3 4 7] [0 5 6 8]\n",
      "[1 2 3 4 6] [0 5 7 8]\n",
      "[1 2 3 4 5] [0 6 7 8]\n",
      "[0 5 6 7 8] [1 2 3 4]\n",
      "[0 4 6 7 8] [1 2 3 5]\n",
      "[0 4 5 7 8] [1 2 3 6]\n",
      "[0 4 5 6 8] [1 2 3 7]\n",
      "[0 4 5 6 7] [1 2 3 8]\n",
      "[0 3 6 7 8] [1 2 4 5]\n",
      "[0 3 5 7 8] [1 2 4 6]\n",
      "[0 3 5 6 8] [1 2 4 7]\n",
      "[0 3 5 6 7] [1 2 4 8]\n",
      "[0 3 4 7 8] [1 2 5 6]\n",
      "[0 3 4 6 8] [1 2 5 7]\n",
      "[0 3 4 6 7] [1 2 5 8]\n",
      "[0 3 4 5 8] [1 2 6 7]\n",
      "[0 3 4 5 7] [1 2 6 8]\n",
      "[0 3 4 5 6] [1 2 7 8]\n",
      "[0 2 6 7 8] [1 3 4 5]\n",
      "[0 2 5 7 8] [1 3 4 6]\n",
      "[0 2 5 6 8] [1 3 4 7]\n",
      "[0 2 5 6 7] [1 3 4 8]\n",
      "[0 2 4 7 8] [1 3 5 6]\n",
      "[0 2 4 6 8] [1 3 5 7]\n",
      "[0 2 4 6 7] [1 3 5 8]\n",
      "[0 2 4 5 8] [1 3 6 7]\n",
      "[0 2 4 5 7] [1 3 6 8]\n",
      "[0 2 4 5 6] [1 3 7 8]\n",
      "[0 2 3 7 8] [1 4 5 6]\n",
      "[0 2 3 6 8] [1 4 5 7]\n",
      "[0 2 3 6 7] [1 4 5 8]\n",
      "[0 2 3 5 8] [1 4 6 7]\n",
      "[0 2 3 5 7] [1 4 6 8]\n",
      "[0 2 3 5 6] [1 4 7 8]\n",
      "[0 2 3 4 8] [1 5 6 7]\n",
      "[0 2 3 4 7] [1 5 6 8]\n",
      "[0 2 3 4 6] [1 5 7 8]\n",
      "[0 2 3 4 5] [1 6 7 8]\n",
      "[0 1 6 7 8] [2 3 4 5]\n",
      "[0 1 5 7 8] [2 3 4 6]\n",
      "[0 1 5 6 8] [2 3 4 7]\n",
      "[0 1 5 6 7] [2 3 4 8]\n",
      "[0 1 4 7 8] [2 3 5 6]\n",
      "[0 1 4 6 8] [2 3 5 7]\n",
      "[0 1 4 6 7] [2 3 5 8]\n",
      "[0 1 4 5 8] [2 3 6 7]\n",
      "[0 1 4 5 7] [2 3 6 8]\n",
      "[0 1 4 5 6] [2 3 7 8]\n",
      "[0 1 3 7 8] [2 4 5 6]\n",
      "[0 1 3 6 8] [2 4 5 7]\n",
      "[0 1 3 6 7] [2 4 5 8]\n",
      "[0 1 3 5 8] [2 4 6 7]\n",
      "[0 1 3 5 7] [2 4 6 8]\n",
      "[0 1 3 5 6] [2 4 7 8]\n",
      "[0 1 3 4 8] [2 5 6 7]\n",
      "[0 1 3 4 7] [2 5 6 8]\n",
      "[0 1 3 4 6] [2 5 7 8]\n",
      "[0 1 3 4 5] [2 6 7 8]\n",
      "[0 1 2 7 8] [3 4 5 6]\n",
      "[0 1 2 6 8] [3 4 5 7]\n",
      "[0 1 2 6 7] [3 4 5 8]\n",
      "[0 1 2 5 8] [3 4 6 7]\n",
      "[0 1 2 5 7] [3 4 6 8]\n",
      "[0 1 2 5 6] [3 4 7 8]\n",
      "[0 1 2 4 8] [3 5 6 7]\n",
      "[0 1 2 4 7] [3 5 6 8]\n",
      "[0 1 2 4 6] [3 5 7 8]\n",
      "[0 1 2 4 5] [3 6 7 8]\n",
      "[0 1 2 3 8] [4 5 6 7]\n",
      "[0 1 2 3 7] [4 5 6 8]\n",
      "[0 1 2 3 6] [4 5 7 8]\n",
      "[0 1 2 3 5] [4 6 7 8]\n",
      "[0 1 2 3 4] [5 6 7 8]\n"
     ]
    }
   ],
   "source": [
    "from sklearn.model_selection import LeavePOut\n",
    "\n",
    "a = [45, 76, 34, 32, 21, 65, 43, 32, 21]\n",
    "lpo = LeavePOut(p=4)\n",
    "\n",
    "for train, test in lpo.split(a):\n",
    "    print(train, test)"
   ]
  },
  {
   "cell_type": "code",
   "execution_count": 26,
   "metadata": {},
   "outputs": [
    {
     "name": "stdout",
     "output_type": "stream",
     "text": [
      "[9 1 6 7 3 0 5] [2 8 4]\n",
      "[2 9 8 0 6 7 4] [3 5 1]\n",
      "[4 5 1 0 6 9 7] [2 3 8]\n",
      "[2 7 5 8 0 3 4] [6 1 9]\n",
      "[4 1 0 6 8 9 3] [5 2 7]\n"
     ]
    }
   ],
   "source": [
    "from sklearn.model_selection import ShuffleSplit\n",
    "X = np.arange(10)\n",
    "ss = ShuffleSplit(n_splits=5, test_size=0.25, random_state=0)\n",
    "for train_index, test_index in ss.split(X):\n",
    "    print(\"%s %s\" % (train_index, test_index))"
   ]
  },
  {
   "cell_type": "code",
   "execution_count": 27,
   "metadata": {},
   "outputs": [
    {
     "data": {
      "text/plain": [
       "array([0, 1, 2, 3, 4, 5, 6, 7, 8, 9])"
      ]
     },
     "execution_count": 27,
     "metadata": {},
     "output_type": "execute_result"
    }
   ],
   "source": [
    "X"
   ]
  },
  {
   "cell_type": "code",
   "execution_count": 32,
   "metadata": {},
   "outputs": [
    {
     "name": "stdout",
     "output_type": "stream",
     "text": [
      "train -  [30  3]   |   test -  [15  2]\n",
      "train -  [30  3]   |   test -  [15  2]\n",
      "train -  [30  4]   |   test -  [15  1]\n",
      "\n",
      "train -  [28  5]   |   test -  [17]\n",
      "train -  [28  5]   |   test -  [17]\n",
      "train -  [34]   |   test -  [11  5]\n"
     ]
    }
   ],
   "source": [
    "from sklearn.model_selection import StratifiedKFold, KFold\n",
    "import numpy as np\n",
    "X, y = np.ones((50, 1)), np.hstack(([0] * 45, [1] * 5))\n",
    "skf = StratifiedKFold(n_splits=3)\n",
    "for train, test in skf.split(X, y):\n",
    "    print('train -  {}   |   test -  {}'.format(\n",
    "        np.bincount(y[train]), np.bincount(y[test])))\n",
    "    \n",
    "print()\n",
    "kf = KFold(n_splits=3)\n",
    "for train, test in kf.split(X, y):\n",
    "    print('train -  {}   |   test -  {}'.format(\n",
    "        np.bincount(y[train]), np.bincount(y[test])))"
   ]
  },
  {
   "cell_type": "code",
   "execution_count": 30,
   "metadata": {},
   "outputs": [
    {
     "data": {
      "text/plain": [
       "array([0, 0, 0, 0, 0, 0, 0, 0, 0, 0, 0, 0, 0, 0, 0, 0, 0, 0, 0, 0, 0, 0,\n",
       "       0, 0, 0, 0, 0, 0, 0, 0, 0, 0, 0, 0, 0, 0, 0, 0, 0, 0, 0, 0, 0, 0,\n",
       "       0, 1, 1, 1, 1, 1])"
      ]
     },
     "execution_count": 30,
     "metadata": {},
     "output_type": "execute_result"
    }
   ],
   "source": [
    "y"
   ]
  }
 ],
 "metadata": {
  "kernelspec": {
   "display_name": "Python 3",
   "language": "python",
   "name": "python3"
  },
  "language_info": {
   "codemirror_mode": {
    "name": "ipython",
    "version": 3
   },
   "file_extension": ".py",
   "mimetype": "text/x-python",
   "name": "python",
   "nbconvert_exporter": "python",
   "pygments_lexer": "ipython3",
   "version": "3.10.10"
  }
 },
 "nbformat": 4,
 "nbformat_minor": 2
}
